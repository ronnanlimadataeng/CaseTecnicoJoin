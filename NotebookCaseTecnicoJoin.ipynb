{
 "cells": [
  {
   "cell_type": "markdown",
   "metadata": {
    "application/vnd.databricks.v1+cell": {
     "cellMetadata": {
      "byteLimit": 2048000,
      "rowLimit": 10000
     },
     "inputWidgets": {},
     "nuid": "56bd0b19-65bf-4583-a86c-e3c5db0a82a9",
     "showTitle": false,
     "title": ""
    }
   },
   "source": [
    "# Entidade NotebookCaseTecnicoJoin"
   ]
  },
  {
   "cell_type": "markdown",
   "metadata": {
    "application/vnd.databricks.v1+cell": {
     "cellMetadata": {
      "byteLimit": 2048000,
      "rowLimit": 10000
     },
     "inputWidgets": {},
     "nuid": "bdca269f-98b3-4084-ba87-5047b3b4c848",
     "showTitle": false,
     "title": ""
    }
   },
   "source": [
    "## Overview\n",
    "\n",
    " | Detail Tag | Information |\n",
    " |------------|-------------|\n",
    " |Originally Created By |  Ronnan Conceição Lima |\n",
    " |Output Datasets | arquivos parquet/delta </li></ul>|\n",
    " |Input Data Source | psql-database |\n",
    " |Output Data Source | Delta Files, Parquet Files |\n",
    "\n",
    "\n",
    "## Histórico de atualização\n",
    " | Date | Developed By | Reason |\n",
    " |:----:|--------------|--------|\n",
    " |04/10/2024 | Ronnan Conceição Lima | Criação de Notebook, funções e Variaveis para gravação e resolução do case técnico. |\n",
    "\n",
    "\n",
    "\n",
    "## Other Details\n",
    "\n",
    "- Case Prático\n",
    "- Utilize o Database Type Ecommerce disponível em:\n",
    "- Host: psql-mock-database-cloud.postgres.database.azure.com\n",
    "- Banco de Dados: ecom1692155331663giqokzaqmuqlogbu\n",
    "- Port: 5432\n",
    "- Username: eolowynayhvayxbhluzaqxfp@psql-mock-database-cloud\n",
    "- Password: hdzvzutlssuozdonhflhwyjm\n",
    "\n",
    "1. Desenhe o diagrama de ER do banco. Imagem, DBML ou diagrama são aceitáveis.\n",
    "\n",
    "2. Crie uma conta no Databricks Community \n",
    "(https://community.cloud.databricks.com)\n",
    "\n",
    "3. Realizar a ingestão das tabelas do Database Type Ecommerce no formato .parquet (1 arquivo por tabela) usando PySpark\n",
    "\n",
    "4. Criar as querys ou código utilizando a linguagem de sua preferência que respondam às seguintes perguntas:\n",
    "a.\tQual país possui a maior quantidade de itens cancelados?\n",
    "b.\tQual o faturamento da linha de produto mais vendido, considere os pedidos com status 'Shipped', cujo pedido foi realizado no ano de 2005?\n",
    "c.\tTraga na consulta o Nome, sobrenome e e-mail dos vendedores do Japão, lembrando que o local-part do e-mail deve estar mascarado.\n",
    "\n",
    "5. Salve os resultados em formato delta.\n",
    "\n",
    "6. Crie um README.md documentando a solução e o processo usado para chegar no resultado.\n",
    "\n",
    "7. Disponibilize os artefatos (Notebooks, README.md, Diagrama de ER) num repositório público no GitHub para consulta.\n",
    "\n",
    "Perguntas Teóricas\n",
    "1. Como você utiliza o Delta Lake no Azure Databricks para garantir a integridade dos dados?\n",
    "2. Quais são as vantagens do uso do Spark em comparação com outras tecnologias de processamento de dados?\n",
    "3. Descreva um caso em que você precisou sincronizar dados entre diferentes sistemas.\n",
    "4. Desenhe uma arquitetura de dados comentada para uma empresa que utiliza Azure e Databricks, incluindo armazenamento, processamento e análise.\n",
    "5. Como você garante a escalabilidade e a robustez da arquitetura de dados?\n",
    "6. Como você implementa a criptografia de dados em repouso e em trânsito?\n",
    "7. Como você gerencia a qualidade dos dados em um pipeline de dados?\n",
    "8. Qual a importância do FinOps para a engenharia de dados?\n",
    "9. Como o DevOps ajuda o engenheiro de dados?\n",
    "10. Como iniciamos um projeto de pipeline de dados?\n",
    "11. Como realizar CI/CD em um pipeline de dados?\n",
    "12. Quais ferramentas de orquestração você já trabalhou?\n",
    "13. Quais suas motivações para ser um engenheiro de dados?"
   ]
  },
  {
   "cell_type": "code",
   "execution_count": 0,
   "metadata": {
    "application/vnd.databricks.v1+cell": {
     "cellMetadata": {
      "byteLimit": 2048000,
      "rowLimit": 10000
     },
     "inputWidgets": {},
     "nuid": "8706e960-260e-44cd-87e5-8e298289dc93",
     "showTitle": true,
     "title": "Importando Bibliotecas"
    }
   },
   "outputs": [],
   "source": [
    "from delta.tables import DeltaTable"
   ]
  },
  {
   "cell_type": "code",
   "execution_count": 0,
   "metadata": {
    "application/vnd.databricks.v1+cell": {
     "cellMetadata": {
      "byteLimit": 2048000,
      "rowLimit": 10000
     },
     "inputWidgets": {},
     "nuid": "04c0d5ba-1463-4b85-a231-dd83cef6e5f1",
     "showTitle": true,
     "title": "Criando funções e parâmetros para chamar o banco de dados"
    }
   },
   "outputs": [],
   "source": [
    "# Parâmetros de conexão\n",
    "url = \"jdbc:postgresql://psql-mock-database-cloud.postgres.database.azure.com:5432/ecom1692155331663giqokzaqmuqlogbu\"\n",
    "properties = {\n",
    "    \"user\": \"eolowynayhvayxbhluzaqxfp@psql-mock-database-cloud\",\n",
    "    \"password\": \"hdzvzutlssuozdonhflhwyjm\",\n",
    "    \"driver\": \"org.postgresql.Driver\"\n",
    "}\n",
    "\n",
    "# Função auxiliar para leitura de dados do banco\n",
    "def ler_do_banco(query):\n",
    "    return spark.read \\\n",
    "        .format(\"jdbc\") \\\n",
    "        .option(\"url\", url) \\\n",
    "        .option(\"query\", query) \\\n",
    "        .option(\"user\", properties[\"user\"]) \\\n",
    "        .option(\"password\", properties[\"password\"]) \\\n",
    "        .option(\"driver\", properties[\"driver\"]) \\\n",
    "        .load()\n",
    "\n",
    "# Função para listar esquemas\n",
    "def listar_esquemas():\n",
    "    query = \"SELECT schema_name FROM information_schema.schemata\"\n",
    "    df_esquemas = ler_do_banco(query)\n",
    "    esquemas = df_esquemas.select(\"schema_name\").collect()\n",
    "    print(\"Esquemas disponíveis:\")\n",
    "    for esquema in esquemas:\n",
    "        print(esquema.schema_name)\n",
    "\n",
    "# Função para listar tabelas em um esquema específico\n",
    "def listar_tabelas(esquema):\n",
    "    query = f\"SELECT table_name FROM information_schema.tables WHERE table_schema = '{esquema}'\"\n",
    "    df_tabelas = ler_do_banco(query)\n",
    "    tabelas = df_tabelas.select(\"table_name\").collect()\n",
    "    print(f\"Tabelas no esquema '{esquema}':\")\n",
    "    for tabela in tabelas:\n",
    "        print(tabela.table_name)"
   ]
  },
  {
   "cell_type": "code",
   "execution_count": 0,
   "metadata": {
    "application/vnd.databricks.v1+cell": {
     "cellMetadata": {
      "byteLimit": 2048000,
      "rowLimit": 10000
     },
     "inputWidgets": {},
     "nuid": "cfb877ed-0ba5-413e-83ca-7a3341f411f9",
     "showTitle": true,
     "title": "Utilizando as funções e validando os dados iniciais"
    }
   },
   "outputs": [
    {
     "output_type": "stream",
     "name": "stdout",
     "output_type": "stream",
     "text": [
      "Esquemas disponíveis:\npg_catalog\npublic\ninformation_schema\nTabelas no esquema 'public':\ncustomers\nemployees\noffices\norderdetails\norders\npayments\nproduct_lines\nproducts\npg_stat_statements\npg_buffercache\n"
     ]
    },
    {
     "output_type": "display_data",
     "data": {
      "text/html": [
       "<style scoped>\n",
       "  .table-result-container {\n",
       "    max-height: 300px;\n",
       "    overflow: auto;\n",
       "  }\n",
       "  table, th, td {\n",
       "    border: 1px solid black;\n",
       "    border-collapse: collapse;\n",
       "  }\n",
       "  th, td {\n",
       "    padding: 5px;\n",
       "  }\n",
       "  th {\n",
       "    text-align: left;\n",
       "  }\n",
       "</style><div class='table-result-container'><table class='table-result'><thead style='background-color: white'><tr><th>customer_number</th><th>customer_name</th><th>contact_last_name</th><th>contact_first_name</th><th>phone</th><th>address_line1</th><th>address_line2</th><th>city</th><th>state</th><th>postal_code</th><th>country</th><th>sales_rep_employee_number</th><th>credit_limit</th></tr></thead><tbody><tr><td>103</td><td>Jake</td><td>King</td><td>Carine </td><td>40.32.2555</td><td>54, rue Royale</td><td>null</td><td>Nantes</td><td>Victoria</td><td>44000</td><td>France</td><td>1370</td><td>21000.00</td></tr></tbody></table></div>"
      ]
     },
     "metadata": {
      "application/vnd.databricks.v1+output": {
       "addedWidgets": {},
       "aggData": [],
       "aggError": "",
       "aggOverflow": false,
       "aggSchema": [],
       "aggSeriesLimitReached": false,
       "aggType": "",
       "arguments": {},
       "columnCustomDisplayInfos": {},
       "data": [
        [
         103,
         "Jake",
         "King",
         "Carine ",
         "40.32.2555",
         "54, rue Royale",
         null,
         "Nantes",
         "Victoria",
         "44000",
         "France",
         1370,
         "21000.00"
        ]
       ],
       "datasetInfos": [],
       "dbfsResultPath": null,
       "isJsonSchema": true,
       "metadata": {},
       "overflow": false,
       "plotOptions": {
        "customPlotOptions": {},
        "displayType": "table",
        "pivotAggregation": null,
        "pivotColumns": null,
        "xColumns": null,
        "yColumns": null
       },
       "removedWidgets": [],
       "schema": [
        {
         "metadata": "{\"isTimestampNTZ\":false,\"signed\":true,\"scale\":0}",
         "name": "customer_number",
         "type": "\"integer\""
        },
        {
         "metadata": "{\"isTimestampNTZ\":false,\"__CHAR_VARCHAR_TYPE_STRING\":\"varchar(50)\",\"signed\":false,\"scale\":0}",
         "name": "customer_name",
         "type": "\"string\""
        },
        {
         "metadata": "{\"isTimestampNTZ\":false,\"__CHAR_VARCHAR_TYPE_STRING\":\"varchar(50)\",\"signed\":false,\"scale\":0}",
         "name": "contact_last_name",
         "type": "\"string\""
        },
        {
         "metadata": "{\"isTimestampNTZ\":false,\"__CHAR_VARCHAR_TYPE_STRING\":\"varchar(50)\",\"signed\":false,\"scale\":0}",
         "name": "contact_first_name",
         "type": "\"string\""
        },
        {
         "metadata": "{\"isTimestampNTZ\":false,\"__CHAR_VARCHAR_TYPE_STRING\":\"varchar(50)\",\"signed\":false,\"scale\":0}",
         "name": "phone",
         "type": "\"string\""
        },
        {
         "metadata": "{\"isTimestampNTZ\":false,\"__CHAR_VARCHAR_TYPE_STRING\":\"varchar(50)\",\"signed\":false,\"scale\":0}",
         "name": "address_line1",
         "type": "\"string\""
        },
        {
         "metadata": "{\"isTimestampNTZ\":false,\"__CHAR_VARCHAR_TYPE_STRING\":\"varchar(50)\",\"signed\":false,\"scale\":0}",
         "name": "address_line2",
         "type": "\"string\""
        },
        {
         "metadata": "{\"isTimestampNTZ\":false,\"__CHAR_VARCHAR_TYPE_STRING\":\"varchar(50)\",\"signed\":false,\"scale\":0}",
         "name": "city",
         "type": "\"string\""
        },
        {
         "metadata": "{\"isTimestampNTZ\":false,\"__CHAR_VARCHAR_TYPE_STRING\":\"varchar(50)\",\"signed\":false,\"scale\":0}",
         "name": "state",
         "type": "\"string\""
        },
        {
         "metadata": "{\"isTimestampNTZ\":false,\"__CHAR_VARCHAR_TYPE_STRING\":\"varchar(15)\",\"signed\":false,\"scale\":0}",
         "name": "postal_code",
         "type": "\"string\""
        },
        {
         "metadata": "{\"isTimestampNTZ\":false,\"__CHAR_VARCHAR_TYPE_STRING\":\"varchar(50)\",\"signed\":false,\"scale\":0}",
         "name": "country",
         "type": "\"string\""
        },
        {
         "metadata": "{\"isTimestampNTZ\":false,\"signed\":true,\"scale\":0}",
         "name": "sales_rep_employee_number",
         "type": "\"integer\""
        },
        {
         "metadata": "{\"isTimestampNTZ\":false,\"signed\":true,\"scale\":2}",
         "name": "credit_limit",
         "type": "\"decimal(10,2)\""
        }
       ],
       "type": "table"
      }
     },
     "output_type": "display_data"
    }
   ],
   "source": [
    "listar_esquemas()\n",
    "listar_tabelas(\"public\")\n",
    "schema_teste = 'public'\n",
    "tabela_teste = 'customers'\n",
    "df_dados = ler_do_banco(f'''SELECT * FROM {schema_teste}.{tabela_teste} limit 1 ''')\n",
    "df_dados.display()"
   ]
  },
  {
   "cell_type": "code",
   "execution_count": 0,
   "metadata": {
    "application/vnd.databricks.v1+cell": {
     "cellMetadata": {
      "byteLimit": 2048000,
      "rowLimit": 10000
     },
     "inputWidgets": {},
     "nuid": "a930258c-bf69-4e43-9be7-6b3d2f8ec6bb",
     "showTitle": true,
     "title": "Listando todas as tabelas do banco \"public\""
    }
   },
   "outputs": [],
   "source": [
    "tabelas = [\"customers\", \"employees\", \"offices\", \"orderdetails\", \"orders\", \"payments\", \"product_lines\", \"products\"]"
   ]
  },
  {
   "cell_type": "code",
   "execution_count": 0,
   "metadata": {
    "application/vnd.databricks.v1+cell": {
     "cellMetadata": {
      "byteLimit": 2048000,
      "rowLimit": 10000
     },
     "inputWidgets": {},
     "nuid": "b9500f44-6fd8-481d-ab3e-a7999ad1afb7",
     "showTitle": true,
     "title": "Salvando os arquivos parquet para cada tabela"
    }
   },
   "outputs": [],
   "source": [
    "for tabela in tabelas:\n",
    "    try:\n",
    "        df = ler_do_banco(f'''SELECT * FROM public.{tabela}''')\n",
    "        df.write.mode(\"overwrite\").parquet(f\"/dbfs/FileStore/tabelas_parquet/{tabela}.parquet\")\n",
    "    except Exception as e:\n",
    "        if 'already exists' in str(e):\n",
    "            print(f\"Path for {tabela} already exists. Overwriting...\")\n",
    "            df.write.mode(\"overwrite\").parquet(f\"/dbfs/FileStore/tabelas_parquet/{tabela}.parquet\")\n",
    "        else:\n",
    "            print(f\"Erro ao salvar a tabela {tabela}: {e}\")"
   ]
  },
  {
   "cell_type": "code",
   "execution_count": 0,
   "metadata": {
    "application/vnd.databricks.v1+cell": {
     "cellMetadata": {
      "byteLimit": 2048000,
      "rowLimit": 10000
     },
     "inputWidgets": {},
     "nuid": "f23067f8-48cd-401b-bdf0-d9778e27469f",
     "showTitle": true,
     "title": "Criando dataframe para a query_pais_maior_cancelamento"
    }
   },
   "outputs": [],
   "source": [
    "\n",
    "# Pergunta A: Qual país possui a maior quantidade de itens cancelados?\n",
    "query_pais_maior_cancelamento = \"\"\"\n",
    "    SELECT c.country, COUNT(od.order_number) AS total_cancelled\n",
    "    FROM orders o\n",
    "    JOIN orderdetails od ON o.order_number = od.order_number\n",
    "    JOIN customers c ON o.customer_number = c.customer_number\n",
    "    WHERE o.status = 'Cancelled'\n",
    "    GROUP BY c.country\n",
    "    ORDER BY total_cancelled DESC\n",
    "    LIMIT 1\n",
    "\"\"\""
   ]
  },
  {
   "cell_type": "code",
   "execution_count": 0,
   "metadata": {
    "application/vnd.databricks.v1+cell": {
     "cellMetadata": {
      "byteLimit": 2048000,
      "rowLimit": 10000
     },
     "inputWidgets": {},
     "nuid": "dcfb47e2-e6e6-4c03-aa11-4e4abe07f1c4",
     "showTitle": true,
     "title": "Salvando os dados da Criando dataframe para a query_pais_maior_cancelamento"
    }
   },
   "outputs": [
    {
     "output_type": "stream",
     "name": "stdout",
     "output_type": "stream",
     "text": [
      " Gravando os dados da tabela pais_maior_cancelamento \n"
     ]
    },
    {
     "output_type": "display_data",
     "data": {
      "text/html": [
       "<style scoped>\n",
       "  .table-result-container {\n",
       "    max-height: 300px;\n",
       "    overflow: auto;\n",
       "  }\n",
       "  table, th, td {\n",
       "    border: 1px solid black;\n",
       "    border-collapse: collapse;\n",
       "  }\n",
       "  th, td {\n",
       "    padding: 5px;\n",
       "  }\n",
       "  th {\n",
       "    text-align: left;\n",
       "  }\n",
       "</style><div class='table-result-container'><table class='table-result'><thead style='background-color: white'><tr><th>country</th><th>total_cancelled</th></tr></thead><tbody><tr><td>New Zealand</td><td>19</td></tr></tbody></table></div>"
      ]
     },
     "metadata": {
      "application/vnd.databricks.v1+output": {
       "addedWidgets": {},
       "aggData": [],
       "aggError": "",
       "aggOverflow": false,
       "aggSchema": [],
       "aggSeriesLimitReached": false,
       "aggType": "",
       "arguments": {},
       "columnCustomDisplayInfos": {},
       "data": [
        [
         "New Zealand",
         19
        ]
       ],
       "datasetInfos": [],
       "dbfsResultPath": null,
       "isJsonSchema": true,
       "metadata": {},
       "overflow": false,
       "plotOptions": {
        "customPlotOptions": {},
        "displayType": "table",
        "pivotAggregation": null,
        "pivotColumns": null,
        "xColumns": null,
        "yColumns": null
       },
       "removedWidgets": [],
       "schema": [
        {
         "metadata": "{\"isTimestampNTZ\":false,\"__CHAR_VARCHAR_TYPE_STRING\":\"varchar(50)\",\"signed\":false,\"scale\":0}",
         "name": "country",
         "type": "\"string\""
        },
        {
         "metadata": "{\"isTimestampNTZ\":false,\"signed\":true,\"scale\":0}",
         "name": "total_cancelled",
         "type": "\"long\""
        }
       ],
       "type": "table"
      }
     },
     "output_type": "display_data"
    }
   ],
   "source": [
    "df_pais_maior_cancelamento = ler_do_banco(query_pais_maior_cancelamento)\n",
    "print(\" Gravando os dados da tabela pais_maior_cancelamento \")\n",
    "\n",
    "df_pais_maior_cancelamento.write.format(\"delta\") \\\n",
    "    .mode(\"overwrite\") \\\n",
    "    .option(\"overwriteSchema\", \"true\") \\\n",
    "    .save(\"/dbfs/FileStore/resultados_delta/pais_maior_cancelamento.delta\")\n",
    "\n",
    "df_pais_maior_cancelamento.display()"
   ]
  },
  {
   "cell_type": "code",
   "execution_count": 0,
   "metadata": {
    "application/vnd.databricks.v1+cell": {
     "cellMetadata": {
      "byteLimit": 2048000,
      "rowLimit": 10000
     },
     "inputWidgets": {},
     "nuid": "c57d8275-f83b-42e6-9a7b-3700fad40b3e",
     "showTitle": true,
     "title": "Criando dataframe para a query_faturamento_produto_mais_vendido_2005"
    }
   },
   "outputs": [],
   "source": [
    "# Pergunta B: Qual o faturamento da linha de produto mais vendido (status 'Shipped' em 2005)?\n",
    "query_faturamento_produto_mais_vendido_2005 = \"\"\"\n",
    "    SELECT pl.product_line, CAST(SUM(od.price_each * od.quantity_ordered) AS FLOAT) AS faturamento\n",
    "    FROM orders o\n",
    "    JOIN orderdetails od ON o.order_number = od.order_number\n",
    "    JOIN products p ON p.product_code = od.product_code\n",
    "    JOIN product_lines pl ON pl.product_line = p.product_line\n",
    "    WHERE o.status = 'Shipped' AND EXTRACT(YEAR FROM o.order_date) = 2005\n",
    "    GROUP BY pl.product_line\n",
    "    ORDER BY faturamento DESC\n",
    "    LIMIT 1\n",
    "\"\"\""
   ]
  },
  {
   "cell_type": "code",
   "execution_count": 0,
   "metadata": {
    "application/vnd.databricks.v1+cell": {
     "cellMetadata": {
      "byteLimit": 2048000,
      "rowLimit": 10000
     },
     "inputWidgets": {},
     "nuid": "b6983134-03bf-4686-96e2-e0c671bd372b",
     "showTitle": true,
     "title": "Salvando os dados da Criando dataframe para a query_faturamento_produto_mais_vendido_2005"
    }
   },
   "outputs": [
    {
     "output_type": "stream",
     "name": "stdout",
     "output_type": "stream",
     "text": [
      " Gravando os dados da tabela faturamento_produto_mais_vendido_2005 \n"
     ]
    },
    {
     "output_type": "display_data",
     "data": {
      "text/html": [
       "<style scoped>\n",
       "  .table-result-container {\n",
       "    max-height: 300px;\n",
       "    overflow: auto;\n",
       "  }\n",
       "  table, th, td {\n",
       "    border: 1px solid black;\n",
       "    border-collapse: collapse;\n",
       "  }\n",
       "  th, td {\n",
       "    padding: 5px;\n",
       "  }\n",
       "  th {\n",
       "    text-align: left;\n",
       "  }\n",
       "</style><div class='table-result-container'><table class='table-result'><thead style='background-color: white'><tr><th>product_line</th><th>faturamento</th></tr></thead><tbody><tr><td>Classic Cars</td><td>603666.99</td></tr></tbody></table></div>"
      ]
     },
     "metadata": {
      "application/vnd.databricks.v1+output": {
       "addedWidgets": {},
       "aggData": [],
       "aggError": "",
       "aggOverflow": false,
       "aggSchema": [],
       "aggSeriesLimitReached": false,
       "aggType": "",
       "arguments": {},
       "columnCustomDisplayInfos": {},
       "data": [
        [
         "Classic Cars",
         603666.99
        ]
       ],
       "datasetInfos": [],
       "dbfsResultPath": null,
       "isJsonSchema": true,
       "metadata": {},
       "overflow": false,
       "plotOptions": {
        "customPlotOptions": {},
        "displayType": "table",
        "pivotAggregation": null,
        "pivotColumns": null,
        "xColumns": null,
        "yColumns": null
       },
       "removedWidgets": [],
       "schema": [
        {
         "metadata": "{\"isTimestampNTZ\":false,\"__CHAR_VARCHAR_TYPE_STRING\":\"varchar(50)\",\"signed\":false,\"scale\":0}",
         "name": "product_line",
         "type": "\"string\""
        },
        {
         "metadata": "{\"isTimestampNTZ\":false,\"signed\":true,\"scale\":17}",
         "name": "faturamento",
         "type": "\"double\""
        }
       ],
       "type": "table"
      }
     },
     "output_type": "display_data"
    }
   ],
   "source": [
    "df_faturamento_produto_mais_vendido_2005 = ler_do_banco(query_faturamento_produto_mais_vendido_2005)\n",
    "print(\" Gravando os dados da tabela faturamento_produto_mais_vendido_2005 \")\n",
    "\n",
    "df_faturamento_produto_mais_vendido_2005.write.format(\"delta\") \\\n",
    "    .mode(\"overwrite\") \\\n",
    "    .option(\"overwriteSchema\", \"true\") \\\n",
    "    .save(\"/dbfs/FileStore/resultados_delta/faturamento_produto_mais_vendido_2005.delta\")\n",
    "\n",
    "df_faturamento_produto_mais_vendido_2005.display()"
   ]
  },
  {
   "cell_type": "code",
   "execution_count": 0,
   "metadata": {
    "application/vnd.databricks.v1+cell": {
     "cellMetadata": {
      "byteLimit": 2048000,
      "rowLimit": 10000
     },
     "inputWidgets": {},
     "nuid": "28cb790e-0d88-4e2f-8f3f-cb7212dde2d5",
     "showTitle": false,
     "title": ""
    }
   },
   "outputs": [],
   "source": [
    "# Pergunta C: Nome, sobrenome e e-mail dos vendedores do Japão, com e-mail mascarado\n",
    "query_vendedores_japao_mascarado = \"\"\"\n",
    "SELECT \n",
    "    CONCAT(e.first_name, ' ', e.last_name) AS nome_completo,\n",
    "    CONCAT(SUBSTRING(e.email, 1, 3), '***', RIGHT(e.email, LENGTH(e.email) - POSITION('@' IN e.email) + 1)) AS email_mascarado\n",
    "FROM \n",
    "    employees e\n",
    "JOIN \n",
    "    offices o ON e.office_code = o.office_code\n",
    "WHERE \n",
    "    o.country = 'Japan'\n",
    "\"\"\""
   ]
  },
  {
   "cell_type": "code",
   "execution_count": 0,
   "metadata": {
    "application/vnd.databricks.v1+cell": {
     "cellMetadata": {
      "byteLimit": 2048000,
      "rowLimit": 10000
     },
     "inputWidgets": {},
     "nuid": "06dbae1e-b6c3-4794-ae89-85a7dace1005",
     "showTitle": true,
     "title": "Salvando os dados da Criando dataframe para a query_vendedores_japao_mascarado"
    }
   },
   "outputs": [
    {
     "output_type": "stream",
     "name": "stdout",
     "output_type": "stream",
     "text": [
      " Gravando os dados da tabela vendedores_japao_mascarado \n"
     ]
    },
    {
     "output_type": "display_data",
     "data": {
      "text/html": [
       "<style scoped>\n",
       "  .table-result-container {\n",
       "    max-height: 300px;\n",
       "    overflow: auto;\n",
       "  }\n",
       "  table, th, td {\n",
       "    border: 1px solid black;\n",
       "    border-collapse: collapse;\n",
       "  }\n",
       "  th, td {\n",
       "    padding: 5px;\n",
       "  }\n",
       "  th {\n",
       "    text-align: left;\n",
       "  }\n",
       "</style><div class='table-result-container'><table class='table-result'><thead style='background-color: white'><tr><th>nome_completo</th><th>email_mascarado</th></tr></thead><tbody><tr><td>Mami Nishi</td><td>mni***@classicmodelcars.com</td></tr><tr><td>Yoshimi Kato</td><td>yka***@classicmodelcars.com</td></tr></tbody></table></div>"
      ]
     },
     "metadata": {
      "application/vnd.databricks.v1+output": {
       "addedWidgets": {},
       "aggData": [],
       "aggError": "",
       "aggOverflow": false,
       "aggSchema": [],
       "aggSeriesLimitReached": false,
       "aggType": "",
       "arguments": {},
       "columnCustomDisplayInfos": {},
       "data": [
        [
         "Mami Nishi",
         "mni***@classicmodelcars.com"
        ],
        [
         "Yoshimi Kato",
         "yka***@classicmodelcars.com"
        ]
       ],
       "datasetInfos": [],
       "dbfsResultPath": null,
       "isJsonSchema": true,
       "metadata": {},
       "overflow": false,
       "plotOptions": {
        "customPlotOptions": {},
        "displayType": "table",
        "pivotAggregation": null,
        "pivotColumns": null,
        "xColumns": null,
        "yColumns": null
       },
       "removedWidgets": [],
       "schema": [
        {
         "metadata": "{\"isTimestampNTZ\":false,\"signed\":false,\"scale\":0}",
         "name": "nome_completo",
         "type": "\"string\""
        },
        {
         "metadata": "{\"isTimestampNTZ\":false,\"signed\":false,\"scale\":0}",
         "name": "email_mascarado",
         "type": "\"string\""
        }
       ],
       "type": "table"
      }
     },
     "output_type": "display_data"
    }
   ],
   "source": [
    "df_vendedores_japao_mascarado = ler_do_banco(query_vendedores_japao_mascarado)\n",
    "print(\" Gravando os dados da tabela vendedores_japao_mascarado \")\n",
    "\n",
    "df_vendedores_japao_mascarado.write.format(\"delta\") \\\n",
    "    .mode(\"overwrite\") \\\n",
    "    .option(\"overwriteSchema\", \"true\") \\\n",
    "    .save(\"/dbfs/FileStore/resultados_delta/vendedores_japao_mascarado.delta\")\n",
    "\n",
    "df_vendedores_japao_mascarado.display()"
   ]
  },
  {
   "cell_type": "code",
   "execution_count": 0,
   "metadata": {
    "application/vnd.databricks.v1+cell": {
     "cellMetadata": {
      "byteLimit": 2048000,
      "rowLimit": 10000
     },
     "inputWidgets": {},
     "nuid": "3a18550f-c79a-4325-bad6-08b570aa83c3",
     "showTitle": false,
     "title": ""
    }
   },
   "outputs": [
    {
     "output_type": "execute_result",
     "data": {
      "text/plain": [
       "DataFrame[path: string, metrics: struct<numFilesAdded:bigint,numFilesRemoved:bigint,filesAdded:struct<min:bigint,max:bigint,avg:double,totalFiles:bigint,totalSize:bigint>,filesRemoved:struct<min:bigint,max:bigint,avg:double,totalFiles:bigint,totalSize:bigint>,partitionsOptimized:bigint,zOrderStats:struct<strategyName:string,inputCubeFiles:struct<num:bigint,size:bigint>,inputOtherFiles:struct<num:bigint,size:bigint>,inputNumCubes:bigint,mergedFiles:struct<num:bigint,size:bigint>,numOutputCubes:bigint,mergedNumCubes:bigint>,clusteringStats:struct<inputZCubeFiles:struct<numFiles:bigint,size:bigint>,inputOtherFiles:struct<numFiles:bigint,size:bigint>,inputNumZCubes:bigint,mergedFiles:struct<numFiles:bigint,size:bigint>,numOutputZCubes:bigint>,numBins:bigint,numBatches:bigint,totalConsideredFiles:bigint,totalFilesSkipped:bigint,preserveInsertionOrder:boolean,numFilesSkippedToReduceWriteAmplification:bigint,numBytesSkippedToReduceWriteAmplification:bigint,startTimeMs:bigint,endTimeMs:bigint,totalClusterParallelism:bigint,totalScheduledTasks:bigint,autoCompactParallelismStats:struct<maxClusterActiveParallelism:bigint,minClusterActiveParallelism:bigint,maxSessionActiveParallelism:bigint,minSessionActiveParallelism:bigint>,deletionVectorStats:struct<numDeletionVectorsRemoved:bigint,numDeletionVectorRowsRemoved:bigint>,numTableColumns:bigint,numTableColumnsWithStats:bigint,totalTaskExecutionTimeMs:bigint,skippedArchivedFiles:bigint,clusteringMetrics:struct<sizeOfTableInBytesBeforeLazyClustering:bigint,isNewMetadataCreated:boolean,isPOTriggered:boolean,numFilesSkippedWithoutStats:bigint,numFilesClassifiedToIntermediateNodes:bigint,sizeOfFilesClassifiedToIntermediateNodesInBytes:bigint,logicalSizeOfFilesClassifiedToIntermediateNodesInBytes:bigint,numFilesClassifiedToLeafNodes:bigint,sizeOfFilesClassifiedToLeafNodesInBytes:bigint,logicalSizeOfFilesClassifiedToLeafNodesInBytes:bigint,numThreadsForClassifier:int,clusterThresholdStrategy:string,minFileSize:bigint,maxFileSize:bigint,nodeMinNumFilesToCompact:bigint,numIdealFiles:bigint,numClusteringTasksPlanned:int,numCompactionTasksPlanned:int,numOptimizeBatchesPlanned:int,numLeafNodesExpanded:bigint,numLeafNodesClustered:bigint,numGetFilesForNodeCalls:bigint,numSamplingJobs:bigint,numLeafNodesCompacted:bigint,numIntermediateNodesCompacted:bigint,totalSizeOfDataToCompactInBytes:bigint,totalLogicalSizeOfDataToCompactInBytes:bigint,numIntermediateNodesClustered:bigint,numFilesSkippedAfterExpansion:bigint,totalSizeOfFilesSkippedAfterExpansionInBytes:bigint,totalLogicalSizeOfFilesSkippedAfterExpansionInBytes:bigint,totalSizeOfDataToRewriteInBytes:bigint,totalLogicalSizeOfDataToRewriteInBytes:bigint,timeMetrics:struct<classifierTimeMs:bigint,optimizerTimeMs:bigint,metadataLoadTimeMs:bigint,totalGetFilesForNodeCallsTimeMs:bigint,totalSamplingTimeMs:bigint,metadataCreationTimeMs:bigint>,maxOptimizeBatchesInParallel:bigint,currentIteration:int,maxIterations:int,clusteringStrategy:string>>]"
      ]
     },
     "execution_count": 48,
     "metadata": {},
     "output_type": "execute_result"
    }
   ],
   "source": [
    "# Otimizando os arquivos Delta\n",
    "delta_a = DeltaTable.forPath(spark, \"/dbfs/FileStore/resultados_delta/pais_maior_cancelamento.delta\")\n",
    "delta_a.optimize().executeCompaction()\n",
    "\n",
    "delta_b = DeltaTable.forPath(spark, \"/dbfs/FileStore/resultados_delta/faturamento_produto_mais_vendido_2005.delta\")\n",
    "delta_b.optimize().executeCompaction()\n",
    "\n",
    "delta_c = DeltaTable.forPath(spark, \"/dbfs/FileStore/resultados_delta/vendedores_japao_mascarado.delta\")\n",
    "delta_c.optimize().executeCompaction()"
   ]
  }
 ],
 "metadata": {
  "application/vnd.databricks.v1+notebook": {
   "dashboards": [],
   "environmentMetadata": null,
   "language": "python",
   "notebookMetadata": {
    "mostRecentlyExecutedCommandWithImplicitDF": {
     "commandId": 1510624209540236,
     "dataframes": [
      "_sqldf"
     ]
    },
    "pythonIndentUnit": 4
   },
   "notebookName": "NotebookCaseTecnicoJoin",
   "widgets": {}
  }
 },
 "nbformat": 4,
 "nbformat_minor": 0
}
